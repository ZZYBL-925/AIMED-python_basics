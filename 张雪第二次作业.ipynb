{
 "metadata": {
  "language_info": {
   "codemirror_mode": {
    "name": "ipython",
    "version": 3
   },
   "file_extension": ".py",
   "mimetype": "text/x-python",
   "name": "python",
   "nbconvert_exporter": "python",
   "pygments_lexer": "ipython3",
   "version": "3.8.6-final"
  },
  "orig_nbformat": 2,
  "kernelspec": {
   "name": "python3",
   "display_name": "Python 3.8.6 64-bit",
   "metadata": {
    "interpreter": {
     "hash": "ab574918761703d452d9c7d2e47a3834700dbf7ea1a23863f51ea23506816171"
    }
   }
  }
 },
 "nbformat": 4,
 "nbformat_minor": 2,
 "cells": [
  {
   "cell_type": "code",
   "execution_count": 1,
   "metadata": {},
   "outputs": [
    {
     "output_type": "stream",
     "name": "stdout",
     "text": [
      "[1 2 4 5]\n"
     ]
    }
   ],
   "source": [
    "import numpy as np\n",
    "A = np.random.randint(0,5,(8,3))\n",
    "B = np.random.randint(0,5,(2,2))\n",
    "\n",
    "C = (A[:,:,np.newaxis, np.newaxis] == B)\n",
    "rows = np.where(C.any((3,1)).all(1))[0]\n",
    "print (rows)"
   ]
  },
  {
   "cell_type": "code",
   "execution_count": 2,
   "metadata": {},
   "outputs": [
    {
     "output_type": "stream",
     "name": "stdout",
     "text": [
      "[[[[ 1  2]\n   [ 3  4]]\n\n  [[ 5  6]\n   [ 7  8]]\n\n  [[ 9 10]\n   [11 12]]\n\n  [[13 14]\n   [15 16]]\n\n  [[17 18]\n   [19 20]]]\n\n\n [[[21 22]\n   [23 24]]\n\n  [[25 26]\n   [27 28]]\n\n  [[29 30]\n   [31 32]]\n\n  [[33 34]\n   [35 36]]\n\n  [[37 38]\n   [39 40]]]\n\n\n [[[41 42]\n   [43 44]]\n\n  [[45 46]\n   [47 48]]\n\n  [[49 50]\n   [51 52]]\n\n  [[53 54]\n   [55 56]]\n\n  [[57 58]\n   [59 60]]]\n\n\n [[[61 62]\n   [63 64]]\n\n  [[65 66]\n   [67 68]]\n\n  [[69 70]\n   [71 72]]\n\n  [[73 74]\n   [75 76]]\n\n  [[77 78]\n   [79 80]]]]\n--------------------------------------------------\n[[[ 2  4]\n  [ 6  8]\n  [10 12]\n  [14 16]\n  [18 20]]\n\n [[22 24]\n  [26 28]\n  [30 32]\n  [34 36]\n  [38 40]]\n\n [[42 44]\n  [46 48]\n  [50 52]\n  [54 56]\n  [58 60]]\n\n [[62 64]\n  [66 68]\n  [70 72]\n  [74 76]\n  [78 80]]]\n--------------------------------------------------\n[[[ 5  6]\n  [ 7  8]]\n\n [[25 26]\n  [27 28]]\n\n [[45 46]\n  [47 48]]\n\n [[65 66]\n  [67 68]]]\n"
     ]
    }
   ],
   "source": [
    "import numpy as np\n",
    "x = np.arange(1,81).reshape(4,5,2,2)\n",
    "print (x)\n",
    "print ('-'*50)\n",
    "print (x[...,1])\n",
    "print ('-'*50)\n",
    "print(x[:,1])"
   ]
  },
  {
   "cell_type": "code",
   "execution_count": 3,
   "metadata": {},
   "outputs": [
    {
     "output_type": "stream",
     "name": "stdout",
     "text": [
      "[[[2]\n  [2]]\n\n [[3]\n  [0]]\n\n [[1]\n  [1]]]\n[[[[2]]\n\n  [[2]]]\n\n\n [[[3]]\n\n  [[0]]]\n\n\n [[[1]]\n\n  [[1]]]]\n"
     ]
    }
   ],
   "source": [
    "A = np.random.randint(0,5,(3,2))\n",
    "print (A [..., np.newaxis])\n",
    "print (A [..., np.newaxis, np.newaxis])"
   ]
  },
  {
   "cell_type": "code",
   "execution_count": 4,
   "metadata": {},
   "outputs": [
    {
     "output_type": "execute_result",
     "data": {
      "text/plain": [
       "array([[ True,  True, False],\n",
       "       [ True, False, False]])"
      ]
     },
     "metadata": {},
     "execution_count": 4
    }
   ],
   "source": [
    "A = np.array([[1,2,3],[4,5,6]])\n",
    "B = np.array([[1,2,5],[4,4,5]])\n",
    "A == B\n"
   ]
  },
  {
   "cell_type": "code",
   "execution_count": 5,
   "metadata": {},
   "outputs": [
    {
     "output_type": "stream",
     "name": "stdout",
     "text": [
      "False\n--------------------------------------------------\nFalse\n"
     ]
    }
   ],
   "source": [
    "import numpy as np\n",
    "d2 = np.arange(20).reshape(4,5)\n",
    "d3 = np.arange(20).reshape(5,4)\n",
    "print (d2 == d3)\n",
    "print ('-'*50)\n",
    "A = np.array([10,7,2,0])\n",
    "B = np.array([10,9,8,7,6,5,4,3,2,1])\n",
    "print (A == B)"
   ]
  },
  {
   "cell_type": "code",
   "execution_count": 6,
   "metadata": {},
   "outputs": [
    {
     "output_type": "stream",
     "name": "stdout",
     "text": [
      "False\n--------------------------------------------------\n[[ True False False False False False False False False False]\n [False False False  True False False False False False False]\n [False False False False False False False False  True False]\n [False False False False False False False False False False]]\n"
     ]
    }
   ],
   "source": [
    "a = np.array([10,7,2,0])\n",
    "b = np.array([10,9,8,7,6,5,4,3,2,1])\n",
    "print (a == b)\n",
    "print ('-'*50)\n",
    "c = a [...,np.newaxis]\n",
    "print (c == b)"
   ]
  },
  {
   "cell_type": "code",
   "execution_count": 7,
   "metadata": {},
   "outputs": [
    {
     "output_type": "stream",
     "name": "stdout",
     "text": [
      "[[[[False False]\n   [ True False]]\n\n  [[False False]\n   [False False]]\n\n  [[False  True]\n   [False False]]]\n\n\n [[[False False]\n   [False False]]\n\n  [[False False]\n   [False False]]\n\n  [[False False]\n   [False False]]]\n\n\n [[[False  True]\n   [False False]]\n\n  [[False False]\n   [False False]]\n\n  [[False False]\n   [False False]]]\n\n\n [[[False False]\n   [False False]]\n\n  [[False False]\n   [False False]]\n\n  [[False False]\n   [False False]]]\n\n\n [[[ True False]\n   [False  True]]\n\n  [[False  True]\n   [False False]]\n\n  [[False  True]\n   [False False]]]\n\n\n [[[False False]\n   [False False]]\n\n  [[False False]\n   [False False]]\n\n  [[ True False]\n   [False  True]]]\n\n\n [[[False  True]\n   [False False]]\n\n  [[ True False]\n   [False  True]]\n\n  [[ True False]\n   [False  True]]]\n\n\n [[[False False]\n   [False False]]\n\n  [[False False]\n   [False False]]\n\n  [[False False]\n   [False False]]]]\n"
     ]
    }
   ],
   "source": [
    "import numpy as np\n",
    "A = np.random.randint(0,5,(8,3))\n",
    "B = np.random.randint(0,5,(2,2))\n",
    "\n",
    "C = (A[:,:,np.newaxis, np.newaxis] == B)\n",
    "\n",
    "print (C)"
   ]
  },
  {
   "cell_type": "code",
   "execution_count": 8,
   "metadata": {},
   "outputs": [
    {
     "output_type": "stream",
     "name": "stdout",
     "text": [
      "False\n--------------------------------------------------\n[[ True False False False False False False False False False]\n [False False False  True False False False False False False]\n [False False False False False False False False  True False]\n [False False False False False False False False False False]]\nC location--------------------------------------------------\n(array([0, 1, 2], dtype=int64), array([0, 3, 8], dtype=int64))\nAxis 1 combine--------------------------------------------------\n(array([0, 1, 2], dtype=int64),)\nAxis 0 combine--------------------------------------------------\n(array([0, 3, 8], dtype=int64),)\n--------------------------------------------------\n(array([0], dtype=int64),)\n"
     ]
    }
   ],
   "source": [
    "import numpy as np\n",
    "\n",
    "A = np.array([10,7,2,0])\n",
    "B = np.array([10,9,8,7,6,5,4,3,2,1])\n",
    "print (A == B)\n",
    "print ('-'*50)\n",
    "C = A [...,np.newaxis] == B\n",
    "print (C)\n",
    "print ('C location'+'-'*50)\n",
    "print (np.where(C))\n",
    "print ('Axis 1 combine'+'-'*50)\n",
    "print (np.where(C.any(1)))\n",
    "print ('Axis 0 combine'+'-'*50)\n",
    "print (np.where(C.any(0)))\n",
    "print ('-'*50)\n",
    "print (np.where(C.any((1,0))))"
   ]
  },
  {
   "cell_type": "code",
   "execution_count": 9,
   "metadata": {},
   "outputs": [
    {
     "output_type": "stream",
     "name": "stdout",
     "text": [
      "[[ 1  2  3  4  5]\n [ 6  7  8  9 10]] \n\n0轴折叠相加\n [ 7  9 11 13 15]\n1轴折叠相加\n [15 40]\n"
     ]
    }
   ],
   "source": [
    "import numpy as np # 创建一个二维数组\n",
    "A = np.arange(1,11).reshape(2,5)\n",
    "print (A,\"\\n\")\n",
    "sum0 = A.sum(0)\n",
    "sum1 = A.sum(1)\n",
    "print(\"0轴折叠相加\\n\",sum0)\n",
    "print(\"1轴折叠相加\\n\",sum1)"
   ]
  },
  {
   "cell_type": "code",
   "execution_count": 10,
   "metadata": {},
   "outputs": [
    {
     "output_type": "stream",
     "name": "stdout",
     "text": [
      "[1 4 7]\n"
     ]
    }
   ],
   "source": [
    "import numpy as np\n",
    "A = np.random.randint(0,5,(8,3))\n",
    "B = np.random.randint(0,5,(2,2))\n",
    "\n",
    "C = (A[:,:,np.newaxis, np.newaxis] == B)\n",
    "rows = np.where(C.any((3,1)).all(1))[0]\n",
    "print (rows)"
   ]
  },
  {
   "cell_type": "code",
   "execution_count": null,
   "metadata": {},
   "outputs": [],
   "source": []
  }
 ]
}